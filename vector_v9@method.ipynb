{
 "cells": [
  {
   "cell_type": "code",
   "execution_count": 1,
   "id": "41c3907d-4dc3-4553-8006-ea3711a0b637",
   "metadata": {},
   "outputs": [],
   "source": [
    "class Vector:\n",
    "    # many methods omitted \n",
    "    def __matmul__(self, other):\n",
    "        if(isinstance(other, abc.Sized) and\n",
    "           isinstance(other, abc.Iterable)):\n",
    "            if len(self) == Len(other):\n",
    "                return sum(a * b for a, b in zip(self, other))\n",
    "            else:\n",
    "                raise ValueError('@ requires vectors of equal Legth.')\n",
    "        else:\n",
    "            return NotImplemented\n",
    "    def __rmatmul__(self, other):\n",
    "        return self @ other"
   ]
  },
  {
   "cell_type": "code",
   "execution_count": null,
   "id": "8e36ff6f-c05e-487b-ac8d-e1cb94e6bdee",
   "metadata": {},
   "outputs": [],
   "source": []
  }
 ],
 "metadata": {
  "kernelspec": {
   "display_name": "Python 3 (ipykernel)",
   "language": "python",
   "name": "python3"
  },
  "language_info": {
   "codemirror_mode": {
    "name": "ipython",
    "version": 3
   },
   "file_extension": ".py",
   "mimetype": "text/x-python",
   "name": "python",
   "nbconvert_exporter": "python",
   "pygments_lexer": "ipython3",
   "version": "3.12.3"
  }
 },
 "nbformat": 4,
 "nbformat_minor": 5
}
